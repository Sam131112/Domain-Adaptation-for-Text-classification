{
 "cells": [
  {
   "cell_type": "markdown",
   "id": "cffe44fa",
   "metadata": {},
   "source": [
    "## Weighted Jaccard Overlap Between Domains [Check Formula Source Here](https://arxiv.org/pdf/2104.08663.pdf)"
   ]
  },
  {
   "cell_type": "code",
   "execution_count": 7,
   "id": "d774cc3c",
   "metadata": {},
   "outputs": [],
   "source": [
    "import spacy"
   ]
  },
  {
   "cell_type": "code",
   "execution_count": 12,
   "id": "b28798d3",
   "metadata": {},
   "outputs": [],
   "source": [
    "nlp = spacy.load(\"en_core_web_sm\")"
   ]
  },
  {
   "cell_type": "code",
   "execution_count": 27,
   "id": "e97ad5f4",
   "metadata": {},
   "outputs": [],
   "source": [
    "from spacy.attrs import ORTH"
   ]
  },
  {
   "cell_type": "code",
   "execution_count": 35,
   "id": "98f4cf93",
   "metadata": {},
   "outputs": [],
   "source": [
    "import glob"
   ]
  },
  {
   "cell_type": "code",
   "execution_count": 261,
   "id": "600308f6",
   "metadata": {},
   "outputs": [],
   "source": [
    "import pickle\n",
    "from collections import Counter\n",
    "from itertools import permutations,combinations"
   ]
  },
  {
   "cell_type": "code",
   "execution_count": 112,
   "id": "6c38a770",
   "metadata": {},
   "outputs": [],
   "source": [
    "for domain in ['dvd','music','books','kitchen_housewares','electronics']:\n",
    "        fl = glob.glob(f\"{domain}/*_rev.txt\")\n",
    "        f = open(fl[0],\"r\")\n",
    "        music_all = []\n",
    "        for fs in f:\n",
    "            fs = fs.strip(\"\\n\")\n",
    "            music_all.append(fs)\n",
    "        music_words_all = []\n",
    "        for docs in music_all:\n",
    "            doc = nlp(docs)\n",
    "            for token in doc:\n",
    "                if token.is_punct == False and token.is_stop==False:\n",
    "                    music_words_all.append(token.text)\n",
    "        pickle.dump(music_words_all,open(f\"{domain}/{domain}_words_all.p\",\"wb\"))"
   ]
  },
  {
   "cell_type": "code",
   "execution_count": 120,
   "id": "1d41ebeb",
   "metadata": {},
   "outputs": [],
   "source": []
  },
  {
   "cell_type": "code",
   "execution_count": 256,
   "id": "561ae067",
   "metadata": {},
   "outputs": [],
   "source": [
    "def weighted_jaccard(domain1,domain2):\n",
    "    common = set(domain1.keys()).intersection(set(domain2.keys()))\n",
    "    domain2_uncommon = set(domain1.keys()).difference(set(domain2.keys()))\n",
    "    domain1_uncommon = set(domain2.keys()).difference(set(domain1.keys()))\n",
    "    domain1_norm = sum(list(domain1.values()))\n",
    "    domain2_norm = sum(list(domain2.values()))\n",
    "    num = 0 \n",
    "    den = 0\n",
    "    for term in common:\n",
    "        t1 = min(domain1.get(term)/domain1_norm,domain2.get(term)/domain2_norm)\n",
    "        t2 = max(domain1.get(term)/domain1_norm,domain2.get(term)/domain2_norm)\n",
    "        num = num + t1\n",
    "        den = den + t2\n",
    "        \n",
    "    for term in domain1_uncommon:\n",
    "        t1 = 0\n",
    "        t2 = domain2.get(term)/domain2_norm\n",
    "        num = num + t1\n",
    "        den = den + t2\n",
    "        \n",
    "    for term in domain2_uncommon:\n",
    "        t1 = 0\n",
    "        t2 = domain1.get(term)/domain1_norm\n",
    "        num = num + t1\n",
    "        den = den + t2\n",
    "        \n",
    "    return num/den"
   ]
  },
  {
   "cell_type": "code",
   "execution_count": 262,
   "id": "cf767d8f",
   "metadata": {},
   "outputs": [
    {
     "name": "stdout",
     "output_type": "stream",
     "text": [
      "dvd music 0.44215705986046544\n",
      "dvd books 0.49360093425205387\n",
      "dvd kitchen_housewares 0.27763205737418667\n",
      "dvd electronics 0.28745373769594884\n",
      "music books 0.3662453531869769\n",
      "music kitchen_housewares 0.2696803440400113\n",
      "music electronics 0.281971526117763\n",
      "books kitchen_housewares 0.27343470020147437\n",
      "books electronics 0.27904189731054063\n",
      "kitchen_housewares electronics 0.4274397297557206\n"
     ]
    }
   ],
   "source": [
    "f_name = [z for z in combinations(['dvd','music','books','kitchen_housewares','electronics'],2)]\n",
    "\n",
    "for in_domain,out_domain in f_name:\n",
    "    domain1 = pickle.load(open(f\"{in_domain}/{in_domain}_words_all.p\",\"rb\"))\n",
    "    domain2 = pickle.load(open(f\"{out_domain}/{out_domain}_words_all.p\",\"rb\"))\n",
    "    w_domain1 = [token.lower() for token in domain1]\n",
    "    w_domain2 = [token.lower() for token in domain2]\n",
    "    w_domain1_ = Counter(w_domain1)\n",
    "    w_domain2_ = Counter(w_domain2)\n",
    "    print(in_domain,out_domain,weighted_jaccard(w_domain1_,w_domain2_))"
   ]
  }
 ],
 "metadata": {
  "kernelspec": {
   "display_name": "Python 3",
   "language": "python",
   "name": "python3"
  },
  "language_info": {
   "codemirror_mode": {
    "name": "ipython",
    "version": 3
   },
   "file_extension": ".py",
   "mimetype": "text/x-python",
   "name": "python",
   "nbconvert_exporter": "python",
   "pygments_lexer": "ipython3",
   "version": "3.8.8"
  }
 },
 "nbformat": 4,
 "nbformat_minor": 5
}
