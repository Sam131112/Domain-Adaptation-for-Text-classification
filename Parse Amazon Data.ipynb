{
 "cells": [
  {
   "cell_type": "code",
   "execution_count": 2,
   "id": "7b0b29f8",
   "metadata": {},
   "outputs": [],
   "source": [
    "import codecs\n",
    "import re\n",
    "import copy\n",
    "import pandas as pd"
   ]
  },
  {
   "cell_type": "markdown",
   "id": "4660d131",
   "metadata": {},
   "source": [
    "## Data Obtained from https://www.cs.jhu.edu/~mdredze/datasets/sentiment/\n",
    "## Basic preprocessing to convert data to dataframes"
   ]
  },
  {
   "cell_type": "code",
   "execution_count": 3,
   "id": "54a007eb",
   "metadata": {},
   "outputs": [],
   "source": [
    "#\"electronics/unlabeled.review\""
   ]
  },
  {
   "cell_type": "code",
   "execution_count": 10,
   "id": "ec4c499a",
   "metadata": {},
   "outputs": [],
   "source": [
    "with codecs.open(\"music/negative.review\", 'r', encoding='utf-8',errors='ignore') as fdata:\n",
    "    soup = fdata.readlines()"
   ]
  },
  {
   "cell_type": "code",
   "execution_count": 11,
   "id": "13a35336",
   "metadata": {},
   "outputs": [],
   "source": [
    "count=0\n",
    "for value in soup:\n",
    "    value = value.strip(\"\\n\")\n",
    "    if '</review_text>'==value:\n",
    "        count = count+1"
   ]
  },
  {
   "cell_type": "code",
   "execution_count": 12,
   "id": "ad980435",
   "metadata": {},
   "outputs": [
    {
     "data": {
      "text/plain": [
       "1000"
      ]
     },
     "execution_count": 12,
     "metadata": {},
     "output_type": "execute_result"
    }
   ],
   "source": [
    "count"
   ]
  },
  {
   "cell_type": "code",
   "execution_count": 13,
   "id": "5d69a83c",
   "metadata": {},
   "outputs": [],
   "source": [
    "count=0\n",
    "txt = []\n",
    "for value in soup:\n",
    "    value = value.strip(\"\\n\")\n",
    "    if '<review_text>'==value:\n",
    "        count = 1\n",
    "        new_txt = ''\n",
    "    elif '</review_text>'==value:\n",
    "        txt.append(new_txt)\n",
    "        count = 0\n",
    "    elif count == 1:\n",
    "        new_txt = new_txt + value\n",
    "    else:\n",
    "        continue"
   ]
  },
  {
   "cell_type": "code",
   "execution_count": 8,
   "id": "283447d0",
   "metadata": {},
   "outputs": [
    {
     "data": {
      "text/plain": [
       "1000"
      ]
     },
     "execution_count": 8,
     "metadata": {},
     "output_type": "execute_result"
    }
   ],
   "source": [
    "len(txt)"
   ]
  },
  {
   "cell_type": "code",
   "execution_count": 9,
   "id": "9da360e3",
   "metadata": {},
   "outputs": [],
   "source": [
    "txt1 = copy.deepcopy(txt)"
   ]
  },
  {
   "cell_type": "code",
   "execution_count": 14,
   "id": "f48c87d0",
   "metadata": {},
   "outputs": [],
   "source": [
    "label1 = [1]*len(txt1)\n",
    "label2 = [0]*len(txt)"
   ]
  },
  {
   "cell_type": "code",
   "execution_count": 15,
   "id": "4f0ad27f",
   "metadata": {},
   "outputs": [],
   "source": [
    "data_all = [*txt1,*txt]\n",
    "label_all = [*label1,*label2]"
   ]
  },
  {
   "cell_type": "code",
   "execution_count": 16,
   "id": "93e45753",
   "metadata": {},
   "outputs": [],
   "source": [
    "data = {'text':data_all,'labels':label_all}\n",
    "df = pd.DataFrame(data)"
   ]
  },
  {
   "cell_type": "code",
   "execution_count": 17,
   "id": "2084a38e",
   "metadata": {},
   "outputs": [],
   "source": [
    "df = df.sample(frac=1).reset_index(drop=True)"
   ]
  },
  {
   "cell_type": "code",
   "execution_count": 18,
   "id": "ece199dd",
   "metadata": {},
   "outputs": [],
   "source": [
    "df.to_csv(\"music/review_labels.csv\",header=True,index=False,sep='\\t')"
   ]
  },
  {
   "cell_type": "code",
   "execution_count": 128,
   "id": "483a5a3f",
   "metadata": {},
   "outputs": [],
   "source": [
    "f = open(\"music/reviews.txt\",\"w\")"
   ]
  },
  {
   "cell_type": "code",
   "execution_count": 129,
   "id": "3f5600ef",
   "metadata": {},
   "outputs": [],
   "source": [
    "for text in txt:\n",
    "    f.write(text)\n",
    "    f.write(\"\\n\")"
   ]
  },
  {
   "cell_type": "code",
   "execution_count": null,
   "id": "0110d835",
   "metadata": {},
   "outputs": [],
   "source": []
  },
  {
   "cell_type": "code",
   "execution_count": null,
   "id": "e395bd5c",
   "metadata": {},
   "outputs": [],
   "source": []
  }
 ],
 "metadata": {
  "kernelspec": {
   "display_name": "Python 3",
   "language": "python",
   "name": "python3"
  },
  "language_info": {
   "codemirror_mode": {
    "name": "ipython",
    "version": 3
   },
   "file_extension": ".py",
   "mimetype": "text/x-python",
   "name": "python",
   "nbconvert_exporter": "python",
   "pygments_lexer": "ipython3",
   "version": "3.8.8"
  }
 },
 "nbformat": 4,
 "nbformat_minor": 5
}
